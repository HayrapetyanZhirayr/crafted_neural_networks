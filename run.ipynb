{
 "cells": [
  {
   "cell_type": "markdown",
   "metadata": {},
   "source": [
    "Loading data"
   ]
  },
  {
   "cell_type": "code",
   "execution_count": 67,
   "metadata": {},
   "outputs": [
    {
     "name": "stderr",
     "output_type": "stream",
     "text": [
      "2022-04-30 20:06:38 URL:https://raw.githubusercontent.com/sebastian-lapuschkin/lrp_toolbox/master/data/MNIST/train_images.npy [47040080/47040080] -> \"data/train_images.npy\" [1]\n",
      "2022-04-30 20:06:39 URL:https://raw.githubusercontent.com/sebastian-lapuschkin/lrp_toolbox/master/data/MNIST/train_labels.npy [480080/480080] -> \"data/train_labels.npy\" [1]\n"
     ]
    }
   ],
   "source": [
    "%%bash\n",
    "\n",
    "mkdir data\n",
    "\n",
    "wget -nv https://github.com/sebastian-lapuschkin/lrp_toolbox/blob/master/data/MNIST/train_images.npy?raw=true -O data/train_images.npy\n",
    "\n",
    "wget -nv https://github.com/sebastian-lapuschkin/lrp_toolbox/blob/master/data/MNIST/train_labels.npy?raw=true -O data/train_labels.npy"
   ]
  },
  {
   "cell_type": "code",
   "execution_count": 2,
   "metadata": {
    "scrolled": false
   },
   "outputs": [
    {
     "data": {
      "text/plain": [
       "<module 'mlp_utils' from '/home/whoisjiji/Desktop/crafted_neural_networks/mlp_utils.py'>"
      ]
     },
     "execution_count": 2,
     "metadata": {},
     "output_type": "execute_result"
    }
   ],
   "source": [
    "import numpy as np\n",
    "import mlp_utils\n",
    "from mlp_utils import Dense, ReLU, LogitsSoftMaxCE, NNetwork\n",
    "from tqdm import tqdm\n",
    "from importlib import reload\n",
    "\n",
    "reload(mlp_utils)"
   ]
  },
  {
   "cell_type": "code",
   "execution_count": 3,
   "metadata": {},
   "outputs": [],
   "source": [
    "X = np.load('data/train_images.npy').astype(float) / 255.\n",
    "Y = np.load('data/train_labels.npy').astype('uint8').ravel()\n",
    "nclasses = len(np.unique(Y))"
   ]
  },
  {
   "cell_type": "code",
   "execution_count": 4,
   "metadata": {},
   "outputs": [],
   "source": [
    "def iterate_minibatches(inputs, labels, batchsize, shuffle=True):\n",
    "    if shuffle:\n",
    "        indices = np.random.permutation(len(labels))\n",
    "    else:\n",
    "        indices = np.arange(len(labels))\n",
    "    for start_idx in range(0, len(labels), batchsize):\n",
    "        batch_indices = indices[start_idx : start_idx + batchsize]\n",
    "        \n",
    "        yield inputs[batch_indices], labels[batch_indices]"
   ]
  },
  {
   "cell_type": "code",
   "execution_count": 7,
   "metadata": {
    "scrolled": true
   },
   "outputs": [
    {
     "name": "stdout",
     "output_type": "stream",
     "text": [
      "Train accuracy before learning :: 0.0625\n"
     ]
    }
   ],
   "source": [
    "# defining network\n",
    "\n",
    "LR = 0.1\n",
    "input_size = np.prod(X.shape[1:]) ## skipping batch dim\n",
    "model = NNetwork(layers = [\n",
    "    Dense(input_size, 2**7, LR),\n",
    "    ReLU(),\n",
    "    Dense(2**7, 2**5, LR),\n",
    "    ReLU(),\n",
    "    Dense(2**5,nclasses, LR),\n",
    "],\n",
    "    loss = LogitsSoftMaxCE()\n",
    ")\n",
    "BATCHSIZE = 32\n",
    "rand_batch_indices = np.random.choice(len(X), BATCHSIZE)\n",
    "print(f\"Train accuracy before learning :: {(model.predict(X[rand_batch_indices]) == Y[rand_batch_indices]).mean()}\")"
   ]
  },
  {
   "cell_type": "code",
   "execution_count": 6,
   "metadata": {},
   "outputs": [
    {
     "name": "stderr",
     "output_type": "stream",
     "text": [
      " 33%|████████████████████████████▎                                                        | 1/3 [00:06<00:13,  6.81s/it]"
     ]
    },
    {
     "name": "stdout",
     "output_type": "stream",
     "text": [
      "Train accuracy after 1 epoch :: 0.96875\n"
     ]
    },
    {
     "name": "stderr",
     "output_type": "stream",
     "text": [
      "\r",
      " 67%|████████████████████████████████████████████████████████▋                            | 2/3 [00:12<00:06,  6.35s/it]"
     ]
    },
    {
     "name": "stdout",
     "output_type": "stream",
     "text": [
      "Train accuracy after 2 epoch :: 1.0\n"
     ]
    },
    {
     "name": "stderr",
     "output_type": "stream",
     "text": [
      "100%|█████████████████████████████████████████████████████████████████████████████████████| 3/3 [00:20<00:00,  6.73s/it]"
     ]
    },
    {
     "name": "stdout",
     "output_type": "stream",
     "text": [
      "Train accuracy after 3 epoch :: 1.0\n"
     ]
    },
    {
     "name": "stderr",
     "output_type": "stream",
     "text": [
      "\n"
     ]
    }
   ],
   "source": [
    "EPOCHS = 3\n",
    "\n",
    "for epoch in tqdm(range(EPOCHS)):\n",
    "    \n",
    "    for x_batch, y_batch in iterate_minibatches(X, Y, BATCHSIZE):\n",
    "        layer_inputs, logits = model.forward(x_batch) # FORWARD PASS\n",
    "        \n",
    "        # ENDING FORWARD (COMPUTING BATCH LOSS) + STARTING BACKWARD (COMPUTING LOGITS GRAD)\n",
    "        batch_loss, grad_logits = model.compute_loss(logits, y_batch)\n",
    "        \n",
    "        model.backward(layer_inputs, grad_logits)  # BACKWARD (UPDATING weights)\n",
    "    print(f'Train accuracy after {epoch + 1} epoch :: {(model.predict(X[rand_batch_indices]) == Y[rand_batch_indices]).mean()}')\n"
   ]
  }
 ],
 "metadata": {
  "kernelspec": {
   "display_name": "Python 3 (ipykernel)",
   "language": "python",
   "name": "python3"
  },
  "language_info": {
   "codemirror_mode": {
    "name": "ipython",
    "version": 3
   },
   "file_extension": ".py",
   "mimetype": "text/x-python",
   "name": "python",
   "nbconvert_exporter": "python",
   "pygments_lexer": "ipython3",
   "version": "3.9.7"
  }
 },
 "nbformat": 4,
 "nbformat_minor": 4
}

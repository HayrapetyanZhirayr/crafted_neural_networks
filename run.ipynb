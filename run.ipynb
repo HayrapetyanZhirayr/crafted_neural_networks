{
 "cells": [
  {
   "cell_type": "markdown",
   "metadata": {},
   "source": [
    "Loading data"
   ]
  },
  {
   "cell_type": "code",
   "execution_count": 67,
   "metadata": {},
   "outputs": [
    {
     "name": "stderr",
     "output_type": "stream",
     "text": [
      "2022-04-30 20:06:38 URL:https://raw.githubusercontent.com/sebastian-lapuschkin/lrp_toolbox/master/data/MNIST/train_images.npy [47040080/47040080] -> \"data/train_images.npy\" [1]\n",
      "2022-04-30 20:06:39 URL:https://raw.githubusercontent.com/sebastian-lapuschkin/lrp_toolbox/master/data/MNIST/train_labels.npy [480080/480080] -> \"data/train_labels.npy\" [1]\n"
     ]
    }
   ],
   "source": [
    "%%bash\n",
    "\n",
    "wget -nv https://github.com/sebastian-lapuschkin/lrp_toolbox/blob/master/data/MNIST/train_images.npy?raw=true -O data/train_images.npy\n",
    "\n",
    "wget -nv https://github.com/sebastian-lapuschkin/lrp_toolbox/blob/master/data/MNIST/train_labels.npy?raw=true -O data/train_labels.npy"
   ]
  },
  {
   "cell_type": "code",
   "execution_count": 1,
   "metadata": {
    "scrolled": false
   },
   "outputs": [
    {
     "data": {
      "text/plain": [
       "<module 'mlp_utils' from '/home/whoisjiji/Desktop/crafted_neural_networks/mlp_utils.py'>"
      ]
     },
     "execution_count": 1,
     "metadata": {},
     "output_type": "execute_result"
    }
   ],
   "source": [
    "import numpy as np\n",
    "import mlp_utils\n",
    "from mlp_utils import Dense, ReLU, LogSoftMax, NNetwork\n",
    "from tqdm import tqdm\n",
    "from importlib import reload\n",
    "\n",
    "reload(mlp_utils)"
   ]
  },
  {
   "cell_type": "code",
   "execution_count": 2,
   "metadata": {},
   "outputs": [],
   "source": [
    "X = np.load('data/train_images.npy').astype(float) / 255.\n",
    "Y = np.load('data/train_labels.npy').astype(np.int32)\n",
    "nclasses = len(np.unique(Y))"
   ]
  },
  {
   "cell_type": "code",
   "execution_count": 3,
   "metadata": {},
   "outputs": [],
   "source": [
    "def iterate_minibatches(inputs, labels, batchsize, shuffle=True):\n",
    "    if shuffle:\n",
    "        indices = np.random.permutation(len(labels))\n",
    "    else:\n",
    "        indices = np.arange(len(labels))\n",
    "    for start_idx in range(0, len(labels), batchsize):\n",
    "        batch_indices = indices[start_idx : start_idx + batchsize]\n",
    "        \n",
    "        yield inputs[batch_indices], labels[batch_indices]"
   ]
  },
  {
   "cell_type": "code",
   "execution_count": 6,
   "metadata": {
    "scrolled": true
   },
   "outputs": [
    {
     "data": {
      "text/plain": [
       "0.06640625"
      ]
     },
     "execution_count": 6,
     "metadata": {},
     "output_type": "execute_result"
    }
   ],
   "source": [
    "LR = 0.1\n",
    "input_size = np.prod(X.shape[1:]) ## skipping batch dim\n",
    "model = NNetwork(layers = [\n",
    "    Dense(input_size, 2**7, LR),\n",
    "    ReLU(),\n",
    "    Dense(2**7, 2**5, LR),\n",
    "    ReLU(),\n",
    "    Dense(2**5,nclasses, LR),\n",
    "],\n",
    "    loss = LogSoftMax()\n",
    ")\n",
    "BATCHSIZE = 32\n",
    "rand_batch_indices = np.random.choice(len(X), BATCHSIZE)\n",
    "(model.predict(X[rand_batch_indices]) == Y[rand_batch_indices]).mean()"
   ]
  },
  {
   "cell_type": "code",
   "execution_count": 7,
   "metadata": {},
   "outputs": [
    {
     "name": "stderr",
     "output_type": "stream",
     "text": [
      "  0%|                                                                                             | 0/3 [00:00<?, ?it/s]/home/whoisjiji/Desktop/crafted_neural_networks/mlp_utils.py:62: RuntimeWarning: overflow encountered in exp\n",
      "  log_sum_logits = np.log(np.sum(np.exp(logits), axis=-1))  # summation over logits axis\n",
      "/home/whoisjiji/Desktop/crafted_neural_networks/mlp_utils.py:69: RuntimeWarning: overflow encountered in exp\n",
      "  softmax = np.exp(logits) / np.sum(np.exp(logits),axis=-1, keepdims=True) # summation over logits axis\n",
      "/home/whoisjiji/Desktop/crafted_neural_networks/mlp_utils.py:69: RuntimeWarning: invalid value encountered in true_divide\n",
      "  softmax = np.exp(logits) / np.sum(np.exp(logits),axis=-1, keepdims=True) # summation over logits axis\n",
      " 33%|████████████████████████████▎                                                        | 1/3 [00:06<00:12,  6.39s/it]\n"
     ]
    },
    {
     "ename": "KeyboardInterrupt",
     "evalue": "",
     "output_type": "error",
     "traceback": [
      "\u001b[0;31m---------------------------------------------------------------------------\u001b[0m",
      "\u001b[0;31mKeyboardInterrupt\u001b[0m                         Traceback (most recent call last)",
      "\u001b[0;32m/tmp/ipykernel_4515/3981944295.py\u001b[0m in \u001b[0;36m<module>\u001b[0;34m\u001b[0m\n\u001b[1;32m      6\u001b[0m \u001b[0;34m\u001b[0m\u001b[0m\n\u001b[1;32m      7\u001b[0m     \u001b[0;32mfor\u001b[0m \u001b[0mx_batch\u001b[0m\u001b[0;34m,\u001b[0m \u001b[0my_batch\u001b[0m \u001b[0;32min\u001b[0m \u001b[0miterate_minibatches\u001b[0m\u001b[0;34m(\u001b[0m\u001b[0mX\u001b[0m\u001b[0;34m,\u001b[0m \u001b[0mY\u001b[0m\u001b[0;34m,\u001b[0m \u001b[0mBATCHSIZE\u001b[0m\u001b[0;34m)\u001b[0m\u001b[0;34m:\u001b[0m\u001b[0;34m\u001b[0m\u001b[0;34m\u001b[0m\u001b[0m\n\u001b[0;32m----> 8\u001b[0;31m         \u001b[0mlayer_inputs\u001b[0m\u001b[0;34m,\u001b[0m \u001b[0mlogits\u001b[0m \u001b[0;34m=\u001b[0m \u001b[0mmodel\u001b[0m\u001b[0;34m.\u001b[0m\u001b[0mforward\u001b[0m\u001b[0;34m(\u001b[0m\u001b[0mx_batch\u001b[0m\u001b[0;34m)\u001b[0m \u001b[0;31m# FORWARD PASS\u001b[0m\u001b[0;34m\u001b[0m\u001b[0;34m\u001b[0m\u001b[0m\n\u001b[0m\u001b[1;32m      9\u001b[0m \u001b[0;34m\u001b[0m\u001b[0m\n\u001b[1;32m     10\u001b[0m         \u001b[0;31m# ENDING FORWARD (COMPUTING LOSS) + STARTING BACKWARD (COMPUTING LOGITS GRAD)\u001b[0m\u001b[0;34m\u001b[0m\u001b[0;34m\u001b[0m\u001b[0m\n",
      "\u001b[0;32m~/Desktop/crafted_neural_networks/mlp_utils.py\u001b[0m in \u001b[0;36mforward\u001b[0;34m(self, X)\u001b[0m\n\u001b[1;32m     90\u001b[0m         \u001b[0mlayer_inputs\u001b[0m \u001b[0;34m=\u001b[0m \u001b[0;34m[\u001b[0m\u001b[0minput\u001b[0m\u001b[0;34m]\u001b[0m\u001b[0;34m\u001b[0m\u001b[0;34m\u001b[0m\u001b[0m\n\u001b[1;32m     91\u001b[0m         \u001b[0;32mfor\u001b[0m \u001b[0mlayer\u001b[0m \u001b[0;32min\u001b[0m \u001b[0mself\u001b[0m\u001b[0;34m.\u001b[0m\u001b[0mlayers\u001b[0m\u001b[0;34m:\u001b[0m\u001b[0;34m\u001b[0m\u001b[0;34m\u001b[0m\u001b[0m\n\u001b[0;32m---> 92\u001b[0;31m             \u001b[0minput\u001b[0m \u001b[0;34m=\u001b[0m \u001b[0mlayer\u001b[0m\u001b[0;34m.\u001b[0m\u001b[0mforward\u001b[0m\u001b[0;34m(\u001b[0m\u001b[0minput\u001b[0m\u001b[0;34m)\u001b[0m\u001b[0;34m\u001b[0m\u001b[0;34m\u001b[0m\u001b[0m\n\u001b[0m\u001b[1;32m     93\u001b[0m             \u001b[0mlayer_inputs\u001b[0m\u001b[0;34m.\u001b[0m\u001b[0mappend\u001b[0m\u001b[0;34m(\u001b[0m\u001b[0minput\u001b[0m\u001b[0;34m)\u001b[0m\u001b[0;34m\u001b[0m\u001b[0;34m\u001b[0m\u001b[0m\n\u001b[1;32m     94\u001b[0m \u001b[0;34m\u001b[0m\u001b[0m\n",
      "\u001b[0;32m~/Desktop/crafted_neural_networks/mlp_utils.py\u001b[0m in \u001b[0;36mforward\u001b[0;34m(self, input)\u001b[0m\n\u001b[1;32m     39\u001b[0m \u001b[0;34m\u001b[0m\u001b[0m\n\u001b[1;32m     40\u001b[0m     \u001b[0;32mdef\u001b[0m \u001b[0mforward\u001b[0m\u001b[0;34m(\u001b[0m\u001b[0mself\u001b[0m\u001b[0;34m,\u001b[0m \u001b[0minput\u001b[0m\u001b[0;34m)\u001b[0m\u001b[0;34m:\u001b[0m\u001b[0;34m\u001b[0m\u001b[0;34m\u001b[0m\u001b[0m\n\u001b[0;32m---> 41\u001b[0;31m         \u001b[0moutput\u001b[0m \u001b[0;34m=\u001b[0m \u001b[0minput\u001b[0m\u001b[0;34m@\u001b[0m\u001b[0mself\u001b[0m\u001b[0;34m.\u001b[0m\u001b[0mweights\u001b[0m \u001b[0;34m+\u001b[0m \u001b[0mself\u001b[0m\u001b[0;34m.\u001b[0m\u001b[0mbiases\u001b[0m\u001b[0;34m\u001b[0m\u001b[0;34m\u001b[0m\u001b[0m\n\u001b[0m\u001b[1;32m     42\u001b[0m         \u001b[0;32mreturn\u001b[0m \u001b[0moutput\u001b[0m\u001b[0;34m\u001b[0m\u001b[0;34m\u001b[0m\u001b[0m\n\u001b[1;32m     43\u001b[0m \u001b[0;34m\u001b[0m\u001b[0m\n",
      "\u001b[0;31mKeyboardInterrupt\u001b[0m: "
     ]
    }
   ],
   "source": [
    "from IPython.display import clear_output\n",
    "\n",
    "EPOCHS = 3\n",
    "\n",
    "for epoch in tqdm(range(EPOCHS)):\n",
    "    \n",
    "    for x_batch, y_batch in iterate_minibatches(X, Y, BATCHSIZE):\n",
    "        layer_inputs, logits = model.forward(x_batch) # FORWARD PASS\n",
    "        \n",
    "        # ENDING FORWARD (COMPUTING LOSS) + STARTING BACKWARD (COMPUTING LOGITS GRAD)\n",
    "        batch_loss, grad_logits = model.compute_loss(logits, y_batch)\n",
    "        \n",
    "        model.backward(layer_inputs, grad_logits)  # BACKWARD (UPDATING weights)"
   ]
  },
  {
   "cell_type": "code",
   "execution_count": null,
   "metadata": {},
   "outputs": [],
   "source": []
  }
 ],
 "metadata": {
  "kernelspec": {
   "display_name": "Python 3 (ipykernel)",
   "language": "python",
   "name": "python3"
  },
  "language_info": {
   "codemirror_mode": {
    "name": "ipython",
    "version": 3
   },
   "file_extension": ".py",
   "mimetype": "text/x-python",
   "name": "python",
   "nbconvert_exporter": "python",
   "pygments_lexer": "ipython3",
   "version": "3.9.7"
  }
 },
 "nbformat": 4,
 "nbformat_minor": 4
}
